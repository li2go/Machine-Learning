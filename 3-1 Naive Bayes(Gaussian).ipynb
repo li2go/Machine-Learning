{
 "cells": [
  {
   "cell_type": "markdown",
   "metadata": {},
   "source": [
    "#  Gaussian Naive Bayes\n",
    "\n",
    "\n",
    "[Gaussian Naive Bayes](http://i.stanford.edu/pub/cstr/reports/cs/tr/79/773/CS-TR-79-773.pdf)\n",
    "\n",
    "高斯模型假设数据每一维特征都服从高斯分布.\n",
    "\n",
    "\n",
    "${\\displaystyle P(x|y)={1 \\over \\sigma {\\sqrt {2\\pi }}}\\,e^{-{(x-\\mu )^{2} \\over 2\\sigma ^{2}}}} $\n",
    "\n",
    "所以我们只需要求得每一个特征的$\\sigma_i,\\mu_i$在使用每一个特征的$\\sigma_i,\\mu_i$,去计算高斯值,即可以得到条件概率.\n"
   ]
  },
  {
   "cell_type": "code",
   "execution_count": 1,
   "metadata": {},
   "outputs": [],
   "source": [
    "import numpy as np\n",
    "import pandas as pd\n",
    "import matplotlib.pyplot as plt\n",
    "from sklearn.datasets import load_iris\n",
    "from sklearn.model_selection import train_test_split\n",
    "from scipy.stats import multivariate_normal"
   ]
  },
  {
   "cell_type": "markdown",
   "metadata": {},
   "source": [
    "#### Scipy建立在Numpy的基础之上，用于数值运算.具有很多搞笑操作,如数值积分、优化、统计、信号处理，以及图像处理功能。"
   ]
  },
  {
   "cell_type": "markdown",
   "metadata": {},
   "source": [
    "#### １加载数据"
   ]
  },
  {
   "cell_type": "code",
   "execution_count": 2,
   "metadata": {},
   "outputs": [],
   "source": [
    "def create_data():\n",
    "    iris = load_iris()\n",
    "    df = pd.DataFrame(iris.data,columns = iris.feature_names)\n",
    "    df['label'] = iris.target\n",
    "    df.columns = ['sepal length', 'sepal width', 'petal length', 'petal width', 'label']\n",
    "    data = np.array(df.iloc[:100, [0, 1, -1]])\n",
    "    return data[:,:2], data[:,-1]"
   ]
  },
  {
   "cell_type": "code",
   "execution_count": 4,
   "metadata": {},
   "outputs": [],
   "source": [
    "X,y = create_data()"
   ]
  },
  {
   "cell_type": "markdown",
   "metadata": {},
   "source": [
    "####  2 用sklearn将原始数据集划分为训练样本和测试样本"
   ]
  },
  {
   "cell_type": "code",
   "execution_count": 16,
   "metadata": {},
   "outputs": [],
   "source": [
    "X_train,X_test,y_train,y_test = train_test_split(X,y,test_size = 0.2,random_state = 42)"
   ]
  },
  {
   "cell_type": "code",
   "execution_count": 17,
   "metadata": {},
   "outputs": [
    {
     "data": {
      "text/plain": [
       "array([[5.7, 2.8],\n",
       "       [5.6, 3. ],\n",
       "       [5. , 3.4],\n",
       "       [4.4, 3.2]])"
      ]
     },
     "execution_count": 17,
     "metadata": {},
     "output_type": "execute_result"
    }
   ],
   "source": [
    "X_train[:4]"
   ]
  },
  {
   "cell_type": "markdown",
   "metadata": {},
   "source": [
    "#### 4 建立高斯模型"
   ]
  },
  {
   "cell_type": "code",
   "execution_count": 18,
   "metadata": {},
   "outputs": [],
   "source": [
    "def NaiveBayes_Gaussian(X_train,y_train):\n",
    "    m,n = X_train.shape\n",
    "    unique_y = np.unique(y_train)\n",
    "    K = unique_y.shape[0] \n",
    "    \n",
    "    \n",
    "    mu = np.zeros((K,n))\n",
    "    sigma = np.zeros((K,n))\n",
    "    pri_prob = np.zeros(K)\n",
    "    \n",
    "    for k in range(K):\n",
    "        y = np.where(y_train==unique_y[k])[0]\n",
    "        pri_prob[k] = y.shape[0] / m\n",
    "        mu[k] = np.mean(X_train[y],axis=0)\n",
    "        sigma[k] = np.var(X_train[y],axis=0)\n",
    "        \n",
    "        \n",
    "    return pri_prob,mu,sigma"
   ]
  },
  {
   "cell_type": "code",
   "execution_count": 20,
   "metadata": {},
   "outputs": [
    {
     "data": {
      "text/plain": [
       "(array([0.475, 0.525]), array([[4.97368421, 3.40263158],\n",
       "        [5.92380952, 2.77857143]]), array([[0.12351801, 0.14551939],\n",
       "        [0.2646712 , 0.09977891]]))"
      ]
     },
     "execution_count": 20,
     "metadata": {},
     "output_type": "execute_result"
    }
   ],
   "source": [
    "NaiveBayes_Gaussian(X_train,y_train)"
   ]
  },
  {
   "cell_type": "markdown",
   "metadata": {},
   "source": [
    "#### ５预测函数"
   ]
  },
  {
   "cell_type": "code",
   "execution_count": 21,
   "metadata": {},
   "outputs": [],
   "source": [
    "def predict(pri_prob,mu,sigma,X_test):\n",
    "\n",
    "    m,n = X_test.shape\n",
    "    pridict = np.zeros((m,n))\n",
    "    \n",
    "    for k in range(n):\n",
    "        prob = multivariate_normal.pdf(X_test,mean=mu[k],cov=sigma[k]) * pri_prob[k]\n",
    "        \n",
    "        pridict[:,k] = prob\n",
    "        \n",
    "    return np.argmax(pridict,axis=1)"
   ]
  },
  {
   "cell_type": "code",
   "execution_count": 22,
   "metadata": {},
   "outputs": [
    {
     "name": "stdout",
     "output_type": "stream",
     "text": [
      "predict labels is:  [1 1 1 0 0 0 0 1 0 0 0 0 1 0 1 0 1 1 0 0]\n"
     ]
    }
   ],
   "source": [
    "predict_label = predict(pri_prob=pri_prob,mu=mu,sigma=sigma,X_test=X_test)\n",
    "print(\"predict labels is: \",predict_label)"
   ]
  },
  {
   "cell_type": "markdown",
   "metadata": {},
   "source": [
    "#### ６评分"
   ]
  },
  {
   "cell_type": "code",
   "execution_count": 23,
   "metadata": {},
   "outputs": [],
   "source": [
    "def score(pri_prob,mu,sigma,X_test,y_test):\n",
    "    predict_y = predict(pri_prob,mu,sigma,X_test)\n",
    "    Correct_rate = np.sum(predict_y == y_test) / y_test.shape[0]\n",
    "    print(\"correct rate is :{}\".format(Correct_rate))"
   ]
  },
  {
   "cell_type": "code",
   "execution_count": 24,
   "metadata": {},
   "outputs": [
    {
     "name": "stdout",
     "output_type": "stream",
     "text": [
      "correct rate is :1.0\n"
     ]
    }
   ],
   "source": [
    "score(pri_prob,mu,sigma,X_test,y_test)"
   ]
  },
  {
   "cell_type": "markdown",
   "metadata": {},
   "source": [
    "### 通过sklearn 调用高斯模型"
   ]
  },
  {
   "cell_type": "code",
   "execution_count": 25,
   "metadata": {},
   "outputs": [],
   "source": [
    "from sklearn.naive_bayes import GaussianNB"
   ]
  },
  {
   "cell_type": "code",
   "execution_count": 35,
   "metadata": {},
   "outputs": [],
   "source": [
    "clf = GaussianNB(priors=None, var_smoothing=1e-09)"
   ]
  },
  {
   "cell_type": "code",
   "execution_count": 36,
   "metadata": {},
   "outputs": [
    {
     "data": {
      "text/plain": [
       "GaussianNB(priors=None, var_smoothing=1e-09)"
      ]
     },
     "execution_count": 36,
     "metadata": {},
     "output_type": "execute_result"
    }
   ],
   "source": [
    "clf.fit(X_train,y_train)"
   ]
  },
  {
   "cell_type": "code",
   "execution_count": 37,
   "metadata": {},
   "outputs": [
    {
     "data": {
      "text/plain": [
       "1.0"
      ]
     },
     "execution_count": 37,
     "metadata": {},
     "output_type": "execute_result"
    }
   ],
   "source": [
    "clf.score(X_test,y_test)"
   ]
  }
 ],
 "metadata": {
  "kernelspec": {
   "display_name": "Python 3",
   "language": "python",
   "name": "python3"
  },
  "language_info": {
   "codemirror_mode": {
    "name": "ipython",
    "version": 3
   },
   "file_extension": ".py",
   "mimetype": "text/x-python",
   "name": "python",
   "nbconvert_exporter": "python",
   "pygments_lexer": "ipython3",
   "version": "3.6.7"
  }
 },
 "nbformat": 4,
 "nbformat_minor": 2
}
