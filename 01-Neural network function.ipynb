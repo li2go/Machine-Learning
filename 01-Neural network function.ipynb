{
 "cells": [
  {
   "cell_type": "code",
   "execution_count": 1,
   "metadata": {},
   "outputs": [],
   "source": [
    "import numpy as np\n",
    "import matplotlib.pyplot as plt\n",
    "from sklearn.model_selection import train_test_split\n",
    "import h5py"
   ]
  },
  {
   "cell_type": "markdown",
   "metadata": {},
   "source": [
    "### 加载数据集"
   ]
  },
  {
   "cell_type": "code",
   "execution_count": 15,
   "metadata": {},
   "outputs": [],
   "source": [
    "def load_data():\n",
    "    #读取本地文件，用h5py读取\n",
    "    train_dataset = h5py.File('/Users/zwx/ZWXX/CS231/data_set/train_catvnoncat.h5', \"r\")\n",
    "    train_set_x_orig = np.array(train_dataset[\"train_set_x\"][:]) \n",
    "    train_set_y_orig = np.array(train_dataset[\"train_set_y\"][:])\n",
    "\n",
    "    test_dataset = h5py.File('/Users/zwx/ZWXX/CS231/data_set/test_catvnoncat.h5')\n",
    "    test_set_x_orig = np.array(test_dataset[\"test_set_x\"][:])\n",
    "    test_set_y_orig = np.array(test_dataset[\"test_set_y\"][:]) \n",
    "    \n",
    "    classes = np.array(test_dataset[\"list_classes\"][:]) \n",
    "    \n",
    "    return train_set_x_orig, train_set_y_orig, test_set_x_orig, test_set_y_orig, classes"
   ]
  },
  {
   "cell_type": "code",
   "execution_count": 16,
   "metadata": {},
   "outputs": [],
   "source": [
    "train_x_orig, train_y, test_x_orig, test_y, classes = load_data()"
   ]
  },
  {
   "cell_type": "code",
   "execution_count": 22,
   "metadata": {},
   "outputs": [
    {
     "data": {
      "text/plain": [
       "<matplotlib.image.AxesImage at 0x1a1c796630>"
      ]
     },
     "execution_count": 22,
     "metadata": {},
     "output_type": "execute_result"
    },
    {
     "data": {
      "image/png": "[encoded data removed]",
      "text/plain": [
       "<Figure size 432x288 with 1 Axes>"
      ]
     },
     "metadata": {
      "needs_background": "light"
     },
     "output_type": "display_data"
    }
   ],
   "source": [
    "index = 30\n",
    "plt.imshow(train_x_orig[index])#展示第index张图片"
   ]
  },
  {
   "cell_type": "code",
   "execution_count": 113,
   "metadata": {},
   "outputs": [
    {
     "name": "stdout",
     "output_type": "stream",
     "text": [
      "train_x 的形状是： (209, 12288)\n",
      "test_x的形状是： (50, 12288)\n",
      "train_y的形状是： (209,)\n",
      "test_y的形状是： (50,)\n"
     ]
    }
   ],
   "source": [
    "#把特征转化成二维的,并且需要标准化\n",
    "train_x = train_x_orig.reshape(train_x_orig.shape[0],-1) / 255\n",
    "test_x = test_x_orig.reshape(test_x_orig.shape[0],-1) / 255\n",
    "print(\"train_x 的形状是：\",train_x.shape)\n",
    "print(\"test_x的形状是：\",test_x.shape)\n",
    "print(\"train_y的形状是：\",train_y.shape)\n",
    "print(\"test_y的形状是：\",test_y.shape)"
   ]
  },
  {
   "cell_type": "markdown",
   "metadata": {},
   "source": [
    "### 利用逻辑回归实现简单的单层神经网络"
   ]
  },
  {
   "cell_type": "markdown",
   "metadata": {},
   "source": [
    "#### 首先需要初始化w和b的值"
   ]
  },
  {
   "cell_type": "code",
   "execution_count": 122,
   "metadata": {},
   "outputs": [],
   "source": [
    "def initial(n):\n",
    "    \n",
    "    #可以定义随机数种子\n",
    "    \n",
    "    #np.random.seed(1)\n",
    "    #w = np.random.rand(1,n)\n",
    "    w = np.zeros((1,n))\n",
    "    b = np.zeros((1,1))\n",
    "    \n",
    "    return w,b"
   ]
  },
  {
   "cell_type": "markdown",
   "metadata": {},
   "source": [
    "#### 定义sigmoid函数"
   ]
  },
  {
   "cell_type": "code",
   "execution_count": 123,
   "metadata": {},
   "outputs": [],
   "source": [
    "def sigmoid(z):\n",
    "    s_value = 1. / (1. + np.exp(-z))\n",
    "    return s_value"
   ]
  },
  {
   "cell_type": "markdown",
   "metadata": {},
   "source": [
    "#### 建立LR模型"
   ]
  },
  {
   "cell_type": "code",
   "execution_count": 124,
   "metadata": {},
   "outputs": [],
   "source": [
    "def LR(X,Y,alpha,iter_,is_print,c,Regular):\n",
    "    '''\n",
    "    参数说明\n",
    "    X:代表训练样本\n",
    "    Y：代表训练样本的标签\n",
    "    alpha：代表学习率\n",
    "    iter_：迭代次数\n",
    "    is_print:是否打印\n",
    "    c：正则化时的惩罚项\n",
    "    Regular：选择正则化的方式L1或L2\n",
    "    '''\n",
    "    m,n = X.shape\n",
    "    w,b = initial(n)\n",
    "    costs = []\n",
    "    for i in range(iter_):\n",
    "        z = np.dot(w,X.T) + b\n",
    "        A = sigmoid(z)\n",
    "        if Regular == 'l1':\n",
    "            #计算损失函数  加上正则化 就在后面加一个惩罚项\n",
    "            cost = -(np.sum((Y*np.log(A) + (1-Y)*np.log(1-A))) + c * np.sum(w))/m\n",
    "        elif Regular == 'l2':\n",
    "            cost = -(np.sum((Y*np.log(A) + (1 - Y)*np.log(1-A))) + (c/2) * np.sum(w**2))/m\n",
    "        costs.append(cost)  \n",
    "        if is_print and i % 100 == 0:\n",
    "            print(\"迭代次数为:{},损失函数的值为:{}\".format(i,cost))\n",
    "            \n",
    "        dz = A - Y\n",
    "        dw = np.dot(dz,X) / m\n",
    "        \n",
    "        assert dw.shape == w.shape #这里判断的是形状是否一致，不一致会报错\n",
    "        db = np.sum(dz,keepdims=True) / m\n",
    "        assert db.shape == b.shape\n",
    "        #更新w，b\n",
    "        if Regular ==\"l2\": \n",
    "            w = w - alpha * (dw + c * w)\n",
    "            b = b - alpha * db\n",
    "        elif Regular ==\"l1\": \n",
    "            w = w - alpha * (dw + c * np.sign(w)) #这是一个判断函数\n",
    "            b = b - alpha * db\n",
    "            \n",
    "    return w,b,costs"
   ]
  },
  {
   "cell_type": "code",
   "execution_count": 136,
   "metadata": {},
   "outputs": [
    {
     "name": "stdout",
     "output_type": "stream",
     "text": [
      "迭代次数为:0,损失函数的值为:0.6931471805599453\n",
      "迭代次数为:100,损失函数的值为:0.8239208681637741\n",
      "迭代次数为:200,损失函数的值为:0.4189445737520132\n",
      "迭代次数为:300,损失函数的值为:0.6173497037778838\n",
      "迭代次数为:400,损失函数的值为:0.5221157724941734\n",
      "迭代次数为:500,损失函数的值为:0.38770874925253707\n",
      "迭代次数为:600,损失函数的值为:0.23625445679106147\n",
      "迭代次数为:700,损失函数的值为:0.1542221330669201\n",
      "迭代次数为:800,损失函数的值为:0.13532782831331272\n",
      "迭代次数为:900,损失函数的值为:0.12497148000220369\n",
      "迭代次数为:1000,损失函数的值为:0.11647833125672787\n",
      "迭代次数为:1100,损失函数的值为:0.10919251128214098\n",
      "迭代次数为:1200,损失函数的值为:0.10280446418272242\n",
      "迭代次数为:1300,损失函数的值为:0.0971298100803137\n",
      "迭代次数为:1400,损失函数的值为:0.09204326923701496\n",
      "迭代次数为:1500,损失函数的值为:0.08745251991839822\n",
      "迭代次数为:1600,损失函数的值为:0.08328603053717921\n",
      "迭代次数为:1700,损失函数的值为:0.07948657037903142\n",
      "迭代次数为:1800,损失函数的值为:0.0760073457218095\n",
      "迭代次数为:1900,损失函数的值为:0.07280949458617371\n"
     ]
    }
   ],
   "source": [
    "w,b,costs = LR(train_x,train_y,0.01,2000,True,0,'l2')"
   ]
  },
  {
   "cell_type": "code",
   "execution_count": 137,
   "metadata": {},
   "outputs": [
    {
     "data": {
      "text/plain": [
       "[<matplotlib.lines.Line2D at 0x1a217656d8>]"
      ]
     },
     "execution_count": 137,
     "metadata": {},
     "output_type": "execute_result"
    },
    {
     "data": {
      "image/png": "[encoded data removed]",
      "text/plain": [
       "<Figure size 432x288 with 1 Axes>"
      ]
     },
     "metadata": {
      "needs_background": "light"
     },
     "output_type": "display_data"
    }
   ],
   "source": [
    "plt.plot(costs)"
   ]
  },
  {
   "cell_type": "markdown",
   "metadata": {},
   "source": [
    "### 预测函数"
   ]
  },
  {
   "cell_type": "code",
   "execution_count": 138,
   "metadata": {},
   "outputs": [],
   "source": [
    "def predict(X,Y,w,b):\n",
    "    z = np.dot(w,X.T) + b\n",
    "    A = sigmoid(z)\n",
    "    \n",
    "    predict_y = np.round(A) \n",
    "    \n",
    "    accurate = np.sum((predict_y==Y))/Y.shape[0]\n",
    "    \n",
    "    return accurate"
   ]
  },
  {
   "cell_type": "code",
   "execution_count": 139,
   "metadata": {},
   "outputs": [
    {
     "name": "stdout",
     "output_type": "stream",
     "text": [
      "测试样本的正确率为： 0.7\n"
     ]
    }
   ],
   "source": [
    "accurate = predict(test_x,test_y,w,b)\n",
    "print(\"测试样本的正确率为：\",accurate)"
   ]
  },
  {
   "cell_type": "code",
   "execution_count": 140,
   "metadata": {},
   "outputs": [
    {
     "name": "stdout",
     "output_type": "stream",
     "text": [
      "训练样本的正确率为： 0.9952153110047847\n"
     ]
    }
   ],
   "source": [
    "accurate = predict(train_x,train_y,w,b)\n",
    "print(\"训练样本的正确率为：\",accurate)"
   ]
  },
  {
   "cell_type": "markdown",
   "metadata": {},
   "source": [
    "#### 结果有些过拟合"
   ]
  },
  {
   "cell_type": "markdown",
   "metadata": {},
   "source": [
    "###  可以调用sklearn库"
   ]
  },
  {
   "cell_type": "code",
   "execution_count": 143,
   "metadata": {},
   "outputs": [],
   "source": [
    "from sklearn.linear_model import LogisticRegression\n",
    "logreg_img = LogisticRegression(C=1,max_iter=500)"
   ]
  },
  {
   "cell_type": "code",
   "execution_count": 144,
   "metadata": {},
   "outputs": [
    {
     "name": "stderr",
     "output_type": "stream",
     "text": [
      "/anaconda3/lib/python3.6/site-packages/sklearn/linear_model/logistic.py:433: FutureWarning: Default solver will be changed to 'lbfgs' in 0.22. Specify a solver to silence this warning.\n",
      "  FutureWarning)\n"
     ]
    },
    {
     "data": {
      "text/plain": [
       "LogisticRegression(C=1, class_weight=None, dual=False, fit_intercept=True,\n",
       "          intercept_scaling=1, max_iter=500, multi_class='warn',\n",
       "          n_jobs=None, penalty='l2', random_state=None, solver='warn',\n",
       "          tol=0.0001, verbose=0, warm_start=False)"
      ]
     },
     "execution_count": 144,
     "metadata": {},
     "output_type": "execute_result"
    }
   ],
   "source": [
    "logreg_img.fit(train_x,train_y)"
   ]
  },
  {
   "cell_type": "code",
   "execution_count": 145,
   "metadata": {},
   "outputs": [],
   "source": [
    "predict_img = logreg_img.predict(test_x)"
   ]
  },
  {
   "cell_type": "code",
   "execution_count": 147,
   "metadata": {},
   "outputs": [
    {
     "name": "stdout",
     "output_type": "stream",
     "text": [
      "The test predict is: 0.72\n"
     ]
    }
   ],
   "source": [
    "accurate = np.sum((predict_img==test_y)) / test_y.shape[0]\n",
    "print('The test predict is:',accurate)"
   ]
  },
  {
   "cell_type": "code",
   "execution_count": 148,
   "metadata": {},
   "outputs": [
    {
     "name": "stdout",
     "output_type": "stream",
     "text": [
      "The test predict is: 1.0\n"
     ]
    }
   ],
   "source": [
    "predict_img = logreg_img.predict(train_x)\n",
    "accurate = np.sum((predict_img==train_y)) / train_y.shape[0]\n",
    "print('The test predict is:',accurate)"
   ]
  }
 ],
 "metadata": {
  "kernelspec": {
   "display_name": "Python 3",
   "language": "python",
   "name": "python3"
  },
  "language_info": {
   "codemirror_mode": {
    "name": "ipython",
    "version": 3
   },
   "file_extension": ".py",
   "mimetype": "text/x-python",
   "name": "python",
   "nbconvert_exporter": "python",
   "pygments_lexer": "ipython3",
   "version": "3.6.8"
  }
 },
 "nbformat": 4,
 "nbformat_minor": 2
}
