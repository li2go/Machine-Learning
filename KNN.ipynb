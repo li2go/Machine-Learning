{
 "cells": [
  {
   "cell_type": "markdown",
   "metadata": {},
   "source": [
    "# KNN\n",
    "主要的思想是“物以类聚，人以群分”可以做分类，也可以做回归。\n",
    "KNN做分类预测时，一般选择多数表决法\n",
    "KNN做回归时，一般选择平均法"
   ]
  },
  {
   "cell_type": "markdown",
   "metadata": {},
   "source": [
    "## 模型的三要素\n",
    "k值的选择，距离度量，分类决策规则"
   ]
  },
  {
   "cell_type": "markdown",
   "metadata": {},
   "source": [
    "### 2-K的选择:\n",
    "\n",
    "K值的选择会对结果产生重大的影响,所以在KNN中,K就是一个需要人为调节的参数\n",
    "- K选择的太小,会在较小的领域中进行选择,这样容易发生过拟合,比如k=1时,为最近邻算法.\n",
    "- K选择的太大,同样会产生欠拟合\n",
    "- K值最好选择的是奇数个,容易在K个结果中去\"投票\"\n",
    "- K值的选择一般比较小"
   ]
  },
  {
   "cell_type": "markdown",
   "metadata": {},
   "source": [
    "### 距离度量\n",
    "欧氏距离\n",
    "曼哈顿距离\n",
    "闵科夫斯基距离\n",
    "欧氏距离和曼哈顿距离是闵科夫斯基的距离的p = 2，p = 1的特殊情况"
   ]
  },
  {
   "cell_type": "code",
   "execution_count": 1,
   "metadata": {},
   "outputs": [],
   "source": [
    "import numpy as np"
   ]
  },
  {
   "cell_type": "code",
   "execution_count": 2,
   "metadata": {},
   "outputs": [],
   "source": [
    "#第一步加载数据集\n",
    "def loadData(): \n",
    "    X = [[3,104],\n",
    "        [2,100],\n",
    "        [1,81],\n",
    "        [101,10],\n",
    "        [99,5],\n",
    "        [98,2]] #这是一个列表\n",
    "    \n",
    "    Y = ['Romance','Romance','Romance','Action','Action','Action'] #也可以定义为0和1，表示一个二分类的问题\n",
    "    \n",
    "    return np.array(X),np.array(Y)#输出的是矩阵形式的X和y，array数组，shape代表数组的维度，后面的数字就表示是几维的"
   ]
  },
  {
   "cell_type": "code",
   "execution_count": 3,
   "metadata": {},
   "outputs": [],
   "source": [
    "text_x1 = ([18,29])"
   ]
  },
  {
   "cell_type": "code",
   "execution_count": 4,
   "metadata": {},
   "outputs": [
    {
     "data": {
      "text/plain": [
       "(2,)"
      ]
     },
     "execution_count": 4,
     "metadata": {},
     "output_type": "execute_result"
    }
   ],
   "source": [
    "np.shape(text_x1)"
   ]
  },
  {
   "cell_type": "code",
   "execution_count": 5,
   "metadata": {},
   "outputs": [],
   "source": [
    "X,y = loadData()"
   ]
  },
  {
   "cell_type": "code",
   "execution_count": 6,
   "metadata": {},
   "outputs": [
    {
     "data": {
      "text/plain": [
       "array([[3, 0, 2, 1, 4, 5]])"
      ]
     },
     "execution_count": 6,
     "metadata": {},
     "output_type": "execute_result"
    }
   ],
   "source": [
    "a = [[1,4,3,-1,6,9]]\n",
    "b = np.array(a)\n",
    "b.argsort()#输出的值是最后对应的索引值"
   ]
  },
  {
   "cell_type": "code",
   "execution_count": 7,
   "metadata": {},
   "outputs": [
    {
     "data": {
      "text/plain": [
       "array([[-1,  1,  3,  4,  6,  9]])"
      ]
     },
     "execution_count": 7,
     "metadata": {},
     "output_type": "execute_result"
    }
   ],
   "source": [
    "np.sort(b)#从小到大排的值"
   ]
  },
  {
   "cell_type": "code",
   "execution_count": 8,
   "metadata": {},
   "outputs": [],
   "source": [
    "#第二步建立模型\n",
    "def KNN(X,y,data,K): #data是测试样本数据\n",
    "    Euclidean_distance = np.power(np.sum((data - X)**2,axis=1),0.5) #python的广播机制\n",
    "    #利用欧氏距离计算两点之间的距离\n",
    "    sort_k = np.argsort(Euclidean_distance)[:K]\n",
    "    #np.argsort是将Euclidean_distance得到的新值对每个点距离从小到大排列,取出的是索引值\n",
    "    get_K_y = y[sort_k] #变成y的标签值\n",
    "    prob_dict = {} #定义一个字典\n",
    "    #找概率大的\n",
    "    for label in get_K_y: #循环按照大小排列好的y值\n",
    "        if label not in prob_dict:\n",
    "            prob_dict[label] = 1\n",
    "        else:\n",
    "            prob_dict[label] += 1\n",
    "        predict_y = sorted(prob_dict.items(),key=lambda z:z[1],reverse=True)[0]\n",
    "        #按照倒序排列\n",
    "    print('predict result is {} and the probability is {}.'.format(predict_y[0],predict_y[1] / len(get_K_y)))\n",
    "    \n",
    "    return predict_y[0]\n",
    "    "
   ]
  },
  {
   "cell_type": "code",
   "execution_count": 9,
   "metadata": {},
   "outputs": [],
   "source": [
    "def a(X,y,data,k):\n",
    "    a= np.power(np.sum((data - X)**2,axis=1),0.5)\n",
    "    k = np.argsort(a)[:k]\n",
    "    b = Y[k]\n",
    "    d = {}\n",
    "    for i in range(b):\n",
    "        if i not in d:\n",
    "            d[i] = 1\n",
    "        else:\n",
    "            d[i] += 1\n",
    "        d = sorted(d.items(),key=lambda z:z[1],reverse=True)[0]\n",
    "    return d[0]"
   ]
  },
  {
   "cell_type": "code",
   "execution_count": 10,
   "metadata": {},
   "outputs": [
    {
     "name": "stdout",
     "output_type": "stream",
     "text": [
      "predict result is Romance and the probability is 1.0.\n"
     ]
    },
    {
     "data": {
      "text/plain": [
       "'Romance'"
      ]
     },
     "execution_count": 10,
     "metadata": {},
     "output_type": "execute_result"
    }
   ],
   "source": [
    "data = np.array([[18,90]])\n",
    "KNN(X,y,data,3)"
   ]
  },
  {
   "cell_type": "code",
   "execution_count": 11,
   "metadata": {},
   "outputs": [
    {
     "data": {
      "text/plain": [
       "[-21, -12, 5, 9, 36]"
      ]
     },
     "execution_count": 11,
     "metadata": {},
     "output_type": "execute_result"
    }
   ],
   "source": [
    "sorted([36,5,-12,9,-21])#对列表中的数进行排序"
   ]
  },
  {
   "cell_type": "code",
   "execution_count": 12,
   "metadata": {},
   "outputs": [
    {
     "data": {
      "text/plain": [
       "[1, 2, 3, 5, 6]"
      ]
     },
     "execution_count": 12,
     "metadata": {},
     "output_type": "execute_result"
    }
   ],
   "source": [
    "a = [1,5,3,6,2]\n",
    "sorted(a)"
   ]
  },
  {
   "cell_type": "code",
   "execution_count": 13,
   "metadata": {},
   "outputs": [
    {
     "data": {
      "text/plain": [
       "[('a', 0), ('b', 4), ('c', 2), ('d', 3)]"
      ]
     },
     "execution_count": 13,
     "metadata": {},
     "output_type": "execute_result"
    }
   ],
   "source": [
    "#假如a是一个元祖构成的列表，需要用到参数key，lambda是一个隐函数\n",
    "a = [('b',4),('a',0),('c',2),('d',3)]\n",
    "sorted(a,key = lambda x:x[0])\n",
    "#x是任意起的名字，可以使用任意的名字\n",
    "#x[0]表示按照列表的第一个元素排序"
   ]
  },
  {
   "cell_type": "code",
   "execution_count": 14,
   "metadata": {},
   "outputs": [
    {
     "data": {
      "text/plain": [
       "('d', 3)"
      ]
     },
     "execution_count": 14,
     "metadata": {},
     "output_type": "execute_result"
    }
   ],
   "source": [
    "a = [('b',4),('a',0),('c',2),('d',3)]\n",
    "sorted(a,key = lambda x:x[0],reverse = True)[0]\n",
    "#reverse = True表示按照倒序排列,[0]表示取第一个的值"
   ]
  },
  {
   "cell_type": "code",
   "execution_count": 15,
   "metadata": {},
   "outputs": [
    {
     "name": "stdout",
     "output_type": "stream",
     "text": [
      "predict result is Romance and the probability is 1.0.\n"
     ]
    },
    {
     "data": {
      "text/plain": [
       "'Romance'"
      ]
     },
     "execution_count": 15,
     "metadata": {},
     "output_type": "execute_result"
    }
   ],
   "source": [
    "data = np.array([[18,90]])\n",
    "KNN(X,y,data,3)"
   ]
  },
  {
   "cell_type": "markdown",
   "metadata": {},
   "source": [
    "### 约会网站测试KNN\n",
    "大概有四步，加载数据集，归一化，打乱拆分数据，建立模型\n"
   ]
  },
  {
   "cell_type": "code",
   "execution_count": 30,
   "metadata": {},
   "outputs": [],
   "source": [
    "#加载数据集\n",
    "def loadData(path):\n",
    "    Train_data = []\n",
    "    labels = []\n",
    "    np.random.shuffle #打乱顺序函数\n",
    "    \n",
    "    with open(path) as f: \n",
    "#如果读取不存在的文件，就会显示出一个IOError的错误，并且给出错误码和详细的信息告诉你文件不存在。\n",
    "        \n",
    "        original_data = f.readlines()#读取这个文件，readlines是读取所有行\n",
    "        \n",
    "    for data in original_data: #循环这个文件的所有行\n",
    "        data_split = data.strip('\\n').split('\\t') #删除数据中的\\n 和 \\t\n",
    "        train_ = data_split[:-1] #从0位置到-1之前的数\n",
    "        label_ = data_split[-1] #最后一个数字\n",
    "        Train_data.append(train_) #加载到训练集的列表中\n",
    "        labels.append(label_)\n",
    "    \n",
    "    \n",
    "    return np.array(Train_data,dtype='float'),np.array(labels)"
   ]
  },
  {
   "cell_type": "code",
   "execution_count": 32,
   "metadata": {},
   "outputs": [],
   "source": [
    "path = \"/home/zwx/桌面/Classic_machine/data_set/datingTestSet.txt\"\n",
    "X,y = loadData(path=path)"
   ]
  },
  {
   "cell_type": "code",
   "execution_count": 30,
   "metadata": {},
   "outputs": [
    {
     "data": {
      "text/plain": [
       "(1000, 3)"
      ]
     },
     "execution_count": 30,
     "metadata": {},
     "output_type": "execute_result"
    }
   ],
   "source": [
    "X.shape"
   ]
  },
  {
   "cell_type": "code",
   "execution_count": 31,
   "metadata": {},
   "outputs": [
    {
     "data": {
      "text/plain": [
       "(1000,)"
      ]
     },
     "execution_count": 31,
     "metadata": {},
     "output_type": "execute_result"
    }
   ],
   "source": [
    "y.shape"
   ]
  },
  {
   "cell_type": "code",
   "execution_count": 45,
   "metadata": {},
   "outputs": [],
   "source": [
    "#归一化 标准化 特征工程\n",
    "def normal(X):\n",
    "    minValue = np.min(X,axis=0)#按照列求最小的\n",
    "    maxValue = np.max(X,axis=0)\n",
    "\n",
    "    newValue = (X - minValue) / (maxValue - minValue)\n",
    "    #归一化的公式\n",
    "    return newValue"
   ]
  },
  {
   "cell_type": "code",
   "execution_count": 46,
   "metadata": {
    "scrolled": true
   },
   "outputs": [
    {
     "data": {
      "text/plain": [
       "array([[0.44832535, 0.39805139, 0.56233353],\n",
       "       [0.15873259, 0.34195467, 0.98724416],\n",
       "       [0.28542943, 0.06892523, 0.47449629],\n",
       "       ...,\n",
       "       [0.29115949, 0.50910294, 0.51079493],\n",
       "       [0.52711097, 0.43665451, 0.4290048 ],\n",
       "       [0.47940793, 0.3768091 , 0.78571804]])"
      ]
     },
     "execution_count": 46,
     "metadata": {},
     "output_type": "execute_result"
    }
   ],
   "source": [
    "Norm_X = normal(X)\n",
    "Norm_X #标准化后的矩阵"
   ]
  },
  {
   "cell_type": "code",
   "execution_count": 34,
   "metadata": {},
   "outputs": [],
   "source": [
    "a = np.array([[1,2,3],[4,5,6],[2,4,5],[5,6,8],[4,6,7]])\n",
    "a\n",
    "y = np.array([1,0,0,1,1])"
   ]
  },
  {
   "cell_type": "code",
   "execution_count": 35,
   "metadata": {},
   "outputs": [
    {
     "data": {
      "text/plain": [
       "array([[4, 6, 7],\n",
       "       [1, 2, 3]])"
      ]
     },
     "execution_count": 35,
     "metadata": {},
     "output_type": "execute_result"
    }
   ],
   "source": [
    "b = np.random.permutation(a)[:2]\n",
    "b"
   ]
  },
  {
   "cell_type": "code",
   "execution_count": 49,
   "metadata": {},
   "outputs": [],
   "source": [
    "def split_data(X,y,pre): #这是一个拆分数据的函数\n",
    "    \n",
    "    # permutation: shuffling x and return index if you input real number.\n",
    "    shuffle_index = np.random.permutation(X.shape[0]) #随机打乱特征值 permutation 打乱的 索引搞定\n",
    "    shuffle_X = X[shuffle_index,:]\n",
    "    shuffle_y = y[shuffle_index]\n",
    "    \n",
    "    split_index = np.int(pre * X.shape[0]) #pre是训练样本的百分比\n",
    "    train_x = shuffle_X[:split_index]\n",
    "    train_y = shuffle_y[:split_index]\n",
    "    \n",
    "    test_x = shuffle_X[split_index:]\n",
    "    test_y = shuffle_y[split_index:]\n",
    "    return train_x,train_y,test_x,test_y"
   ]
  },
  {
   "cell_type": "code",
   "execution_count": 50,
   "metadata": {},
   "outputs": [],
   "source": [
    "train_x,train_y,test_x,test_y = split_data(Norm_X,y,0.8)"
   ]
  },
  {
   "cell_type": "code",
   "execution_count": 51,
   "metadata": {},
   "outputs": [
    {
     "data": {
      "text/plain": [
       "(800, 3)"
      ]
     },
     "execution_count": 51,
     "metadata": {},
     "output_type": "execute_result"
    }
   ],
   "source": [
    "train_x.shape"
   ]
  },
  {
   "cell_type": "code",
   "execution_count": 57,
   "metadata": {},
   "outputs": [
    {
     "data": {
      "text/plain": [
       "(200, 3)"
      ]
     },
     "execution_count": 57,
     "metadata": {},
     "output_type": "execute_result"
    }
   ],
   "source": [
    "test_x.shape"
   ]
  },
  {
   "cell_type": "code",
   "execution_count": 58,
   "metadata": {},
   "outputs": [
    {
     "data": {
      "text/plain": [
       "(200,)"
      ]
     },
     "execution_count": 58,
     "metadata": {},
     "output_type": "execute_result"
    }
   ],
   "source": [
    "test_y.shape"
   ]
  },
  {
   "cell_type": "code",
   "execution_count": 56,
   "metadata": {},
   "outputs": [
    {
     "name": "stdout",
     "output_type": "stream",
     "text": [
      "200 3\n"
     ]
    }
   ],
   "source": [
    "m,n = test_x.shape\n",
    "print(m,n)"
   ]
  },
  {
   "cell_type": "code",
   "execution_count": 73,
   "metadata": {},
   "outputs": [],
   "source": [
    "def KNN_model(train_x, test_x, train_y, test_y,K):\n",
    "\n",
    "    accuracy = 0\n",
    "    m,n = test_x.shape  #测试样本的形状 ,m = 200\n",
    "    \n",
    "    for i in range(m): # 循环m次，把测试样本的每一个进行比较\n",
    "        \n",
    "        data = test_x[i] #表示第几个样本\n",
    "        \n",
    "        Euclidean_distance = np.power(np.sum((data - train_x)**2,axis=1),0.5)  #算的是欧氏距离\n",
    "\n",
    "        \n",
    "        sort_k = np.argsort(Euclidean_distance)[:K]  # 索引随机排序，取第k个\n",
    "        \n",
    "        get_K_y = train_y[sort_k]                     #把它变成y\n",
    "        \n",
    "        # calculate label Probability in get_K_y.\n",
    "        prob_dict = {}\n",
    "\n",
    "        \n",
    "        for label in get_K_y:\n",
    "            if label not in prob_dict:\n",
    "                prob_dict[label] = 1\n",
    "            else:\n",
    "                prob_dict[label] += 1 \n",
    "\n",
    "        predict_y = sorted(prob_dict.items(),key=lambda z:z[1],reverse=True)[0][0]\n",
    "        \n",
    "        # checking predict y is right?\n",
    "        if predict_y == test_y[i]:\n",
    "            accuracy += 1\n",
    "    print('The test set accurate is {}'.format(accuracy / len(test_y))) #正确率"
   ]
  },
  {
   "cell_type": "code",
   "execution_count": 77,
   "metadata": {},
   "outputs": [
    {
     "name": "stdout",
     "output_type": "stream",
     "text": [
      "The test set accurate is 0.975\n"
     ]
    }
   ],
   "source": [
    "KNN_model(train_x, test_x, train_y, test_y,5)"
   ]
  },
  {
   "cell_type": "markdown",
   "metadata": {},
   "source": [
    "# 手写数字识别系统"
   ]
  },
  {
   "cell_type": "markdown",
   "metadata": {},
   "source": [
    "### 分为五步\n",
    "1、从文件名中把名字中后面的序号提取出来\n",
    "2、文本向量化，把32*32的数字结合成1*1024\n",
    "3、解析出训练数据的特征和标签向量（要用到前两步）\n",
    "4、建立KNN模型\n",
    "5、总的函数包括调用KNN以及用测试数据进行预测"
   ]
  },
  {
   "cell_type": "code",
   "execution_count": 23,
   "metadata": {},
   "outputs": [],
   "source": [
    "from os import listdir #读取文件 os.listdir() 方法用于返回指定的文件夹包含的文件或文件夹的名字的列表\n",
    "from numpy import * \n",
    "import numpy as np\n",
    "import operator #调用的是操作符函数"
   ]
  },
  {
   "cell_type": "code",
   "execution_count": 24,
   "metadata": {},
   "outputs": [],
   "source": [
    "#从文件名中解析分类数字\n",
    "def aaa(filename1):\n",
    "    bbb = filename1.split('.')[0] #得到的是filename1中字符串中第一个,（点）之前的字符串\n",
    "    #参考文件名字为0_3.txt\n",
    "    ccc = int(bbb.split('_')[0])#取的是3这类的数字，相当于索引\n",
    "    return ccc"
   ]
  },
  {
   "cell_type": "code",
   "execution_count": 25,
   "metadata": {},
   "outputs": [],
   "source": [
    "#文本向量化32*32---1*1024 把每一张图片都转换成1*1024格式\n",
    "def aa(filename):\n",
    "    bb = [] #把图片都放到这个新的列表中\n",
    "    cc = open(filename)#打开文件\n",
    "    for i in range(32):\n",
    "        dd = cc.readline()\n",
    "        for j in range(32):\n",
    "            bb.append(int(dd[j]))\n",
    "    return bb"
   ]
  },
  {
   "cell_type": "code",
   "execution_count": 42,
   "metadata": {},
   "outputs": [],
   "source": [
    "#构造训练集数据向量，及对应分类标签向量\n",
    "def aaaa():\n",
    "    train_lable = []\n",
    "    bbbb = listdir('/home/zwx/桌面/Classic_machine/data_set/trainingDigits')\n",
    "    m = len(bbbb)  #获取长度\n",
    "    train_data = zeros((m,1024))#变成一个m×1024的零向量\n",
    "    for i in range(m):#获取数据集的标签\n",
    "        filenamestr = bbbb[i]\n",
    "        train_lable.append(aaa(filenamestr))\n",
    "        #%s,表示格式化一个对象为字符，将值（字符串）插入\n",
    "        #[i,:]表示取出第i维下的所有数据\n",
    "        train_data[i,:] = aa('/home/zwx/桌面/Classic_machine/data_set/trainingDigits/%s' % filenamestr)\n",
    "    return train_lable,train_data"
   ]
  },
  {
   "cell_type": "code",
   "execution_count": 43,
   "metadata": {
    "scrolled": true
   },
   "outputs": [
    {
     "data": {
      "text/plain": [
       "3"
      ]
     },
     "execution_count": 43,
     "metadata": {},
     "output_type": "execute_result"
    }
   ],
   "source": [
    "a = [1,2,3]\n",
    "b = len(a)\n",
    "b"
   ]
  },
  {
   "cell_type": "code",
   "execution_count": 44,
   "metadata": {},
   "outputs": [],
   "source": [
    "def KNN(test_data,train_data,train_lable,k):\n",
    "    datasetsize = train_data.shape[0]\n",
    "    #求出已知训练数据集的行数，也就是说一共有多少个样本\n",
    "    \n",
    "    #下面进行欧氏距离求解\n",
    "    a = np.square(tile(test_data,(datasetsize,1)) - train_data) #可以用广播机制\n",
    "    #tile([0,0],(1,3))表示在列的方向上重复[0,0]三次，行1次\n",
    "    #在列的方向上重复1次，行的方向上重复训练集行数的次数，重复的是未知数据集\n",
    "    b = np.sum(a,axis = 1)\n",
    "    c = np.sqrt(b)\n",
    "    d = np.argsort(c) #排序后的索引值\n",
    "    e = {}\n",
    "    for i in range(k): #循环k次\n",
    "        f = train_lable[d[i]]#返回最小距离的索引值（关于预测值）\n",
    "        e[f] = e.get(f,0) + 1 #第i+1次的预测值\n",
    "        #dict = {'Name': 'Zara', 'Age': 27}\n",
    "        #print \"Value : dict.get('Age')\n",
    "        #Value : 27\n",
    "    g = sorted(e.items(),key = operator.itemgetter(1),reverse=True)\n",
    "    #a = [1,2,3] \n",
    "    #b=operator.itemgetter(1)      //定义函数b，获取对象的第1个域的值\n",
    "    #b(a) \n",
    "    # <<2\n",
    "    return g[0][0]"
   ]
  },
  {
   "cell_type": "code",
   "execution_count": 45,
   "metadata": {},
   "outputs": [
    {
     "name": "stdout",
     "output_type": "stream",
     "text": [
      "输入的k值为：３\n",
      "\n",
      "测试集总数为: 946\n",
      "出错的总数为: 10.0\n",
      "\n",
      "错误率: 1.0570824524312896 %\n"
     ]
    }
   ],
   "source": [
    "#总的函数\n",
    "def main():\n",
    "    qq = int(input('输入的k值为：'))\n",
    "    train_lable,train_data = aaaa()#调用函数\n",
    "    testfilelist = listdir('/home/zwx/桌面/Classic_machine/data_set/testDigits')\n",
    "    l= 0\n",
    "    test_number = len(testfilelist) #获取测试样本的长度\n",
    "    for i in range(test_number):\n",
    "        filenamestr = testfilelist[i]\n",
    "        ccc = aaa(filenamestr)\n",
    "        test_data = aa('/home/zwx/桌面/Classic_machine/data_set/testDigits/%s' % filenamestr)\n",
    "        ww = KNN(test_data, train_data, train_lable, qq)\n",
    "        if (ww != ccc):\n",
    "            l += 1.0\n",
    "    print (\"\\n测试集总数为:\",test_number)\n",
    "    print (\"出错的总数为:\",l)\n",
    "    print (\"\\n错误率:\",l/float(test_number)*100,'%')\n",
    "if __name__ == \"__main__\":\n",
    "    main()"
   ]
  },
  {
   "cell_type": "code",
   "execution_count": null,
   "metadata": {},
   "outputs": [],
   "source": [
    "X = [[3,104],\n",
    "        [2,100],\n",
    "        [1,81],\n",
    "        [101,10],\n",
    "        [99,5],\n",
    "        [98,2]]\n",
    "Y = [0,0,0,1,1,1]"
   ]
  },
  {
   "cell_type": "code",
   "execution_count": 87,
   "metadata": {},
   "outputs": [
    {
     "name": "stdout",
     "output_type": "stream",
     "text": [
      "[0 0 0 1 1 1]\n"
     ]
    }
   ],
   "source": [
    "y = np.array(Y)\n",
    "x = np.array(X)\n",
    "print (y)"
   ]
  },
  {
   "cell_type": "code",
   "execution_count": 88,
   "metadata": {},
   "outputs": [],
   "source": [
    "text_x2 = np.array([[18,90]])"
   ]
  },
  {
   "cell_type": "code",
   "execution_count": 89,
   "metadata": {},
   "outputs": [],
   "source": [
    "a = np.sum((text_x2 - X)**2,axis = 1)"
   ]
  },
  {
   "cell_type": "code",
   "execution_count": 90,
   "metadata": {},
   "outputs": [
    {
     "name": "stdout",
     "output_type": "stream",
     "text": [
      "[  421   356   370 13289 13786 14144]\n"
     ]
    }
   ],
   "source": [
    "print(a)"
   ]
  },
  {
   "cell_type": "code",
   "execution_count": 91,
   "metadata": {},
   "outputs": [],
   "source": [
    "b = np.power(a,0.5)"
   ]
  },
  {
   "cell_type": "code",
   "execution_count": 92,
   "metadata": {},
   "outputs": [
    {
     "name": "stdout",
     "output_type": "stream",
     "text": [
      "[ 20.51828453  18.86796226  19.23538406 115.27792503 117.41379817\n",
      " 118.92854998]\n"
     ]
    }
   ],
   "source": [
    "print(b)"
   ]
  },
  {
   "cell_type": "code",
   "execution_count": 93,
   "metadata": {},
   "outputs": [],
   "source": [
    "d = np.argsort(b)"
   ]
  },
  {
   "cell_type": "code",
   "execution_count": 94,
   "metadata": {},
   "outputs": [
    {
     "name": "stdout",
     "output_type": "stream",
     "text": [
      "[1 2 0 3 4 5]\n"
     ]
    }
   ],
   "source": [
    "print(d)"
   ]
  },
  {
   "cell_type": "code",
   "execution_count": 97,
   "metadata": {},
   "outputs": [
    {
     "name": "stdout",
     "output_type": "stream",
     "text": [
      "[0 0 0 1 1 1]\n"
     ]
    }
   ],
   "source": [
    "e = y[d]\n",
    "print(e)"
   ]
  },
  {
   "cell_type": "code",
   "execution_count": null,
   "metadata": {},
   "outputs": [],
   "source": [
    "path = 地址\n",
    "X = []\n",
    "Y = []\n",
    "with open(path,'r') as f:\n",
    "    lines = f.readlines()\n",
    "    for i in lines:\n",
    "        line = i.strip('\\n').split('\\t')\n",
    "        \n",
    "        #print(i.strip('\\n').split('\\t'))\n",
    "        X.append(np.float(line[0]),np.float(line[1]),np.float(line[2]))\n",
    "        Y.append(line[-1])\n",
    "X = np.array(X) \n",
    "Y = np.array(Y)\n",
    "print(X.shape)\n",
    "print(Y.shape)"
   ]
  }
 ],
 "metadata": {
  "kernelspec": {
   "display_name": "Python 3",
   "language": "python",
   "name": "python3"
  },
  "language_info": {
   "codemirror_mode": {
    "name": "ipython",
    "version": 3
   },
   "file_extension": ".py",
   "mimetype": "text/x-python",
   "name": "python",
   "nbconvert_exporter": "python",
   "pygments_lexer": "ipython3",
   "version": "3.6.7"
  }
 },
 "nbformat": 4,
 "nbformat_minor": 2
}
