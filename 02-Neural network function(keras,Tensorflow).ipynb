{
 "cells": [
  {
   "cell_type": "markdown",
   "metadata": {},
   "source": [
    "### Keras\n",
    "Keras是一个高层神经网络API，Keras由纯Python编写而成并基Tensorflow、Theano以及CNTK后端。Keras 为支持快速实验而生，能够把你的idea迅速转换为结果\n",
    "\n",
    "简易和快速的原型设计（keras具有高度模块化，极简，和可扩充特性）\n",
    "\n",
    "支持CNN和RNN，或二者的结合\n",
    "\n",
    "无缝CPU和GPU切换\n"
   ]
  },
  {
   "cell_type": "code",
   "execution_count": 2,
   "metadata": {},
   "outputs": [
    {
     "name": "stderr",
     "output_type": "stream",
     "text": [
      "Using TensorFlow backend.\n"
     ]
    }
   ],
   "source": [
    "import h5py\n",
    "import numpy as np\n",
    "import keras\n",
    "from keras.models import Sequential\n",
    "from keras.layers import Dense\n",
    "import matplotlib.pyplot as plt\n",
    "from sklearn.model_selection import train_test_split"
   ]
  },
  {
   "cell_type": "markdown",
   "metadata": {},
   "source": [
    "### 首先还是需要加载数据集"
   ]
  },
  {
   "cell_type": "code",
   "execution_count": 39,
   "metadata": {},
   "outputs": [],
   "source": [
    "def load_data():\n",
    "    #读取本地文件，用h5py读取\n",
    "    train_dataset = h5py.File('/Users/zwx/ZWXX/CS231/data_set/train_catvnoncat.h5', \"r\")\n",
    "    train_set_x_orig = np.array(train_dataset[\"train_set_x\"][:]) \n",
    "    train_set_y_orig = np.array(train_dataset[\"train_set_y\"][:])\n",
    "\n",
    "    test_dataset = h5py.File('/Users/zwx/ZWXX/CS231/data_set/test_catvnoncat.h5')\n",
    "    test_set_x_orig = np.array(test_dataset[\"test_set_x\"][:])\n",
    "    test_set_y_orig = np.array(test_dataset[\"test_set_y\"][:]) \n",
    "    \n",
    "    classes = np.array(test_dataset[\"list_classes\"][:]) \n",
    "    \n",
    "    return train_set_x_orig, train_set_y_orig, test_set_x_orig, test_set_y_orig, classes"
   ]
  },
  {
   "cell_type": "code",
   "execution_count": 40,
   "metadata": {},
   "outputs": [],
   "source": [
    "train_x_orig, train_y, test_x_orig, test_y, classes = load_data()"
   ]
  },
  {
   "cell_type": "code",
   "execution_count": 41,
   "metadata": {},
   "outputs": [
    {
     "data": {
      "text/plain": [
       "<matplotlib.image.AxesImage at 0x1a36067160>"
      ]
     },
     "execution_count": 41,
     "metadata": {},
     "output_type": "execute_result"
    },
    {
     "data": {
      "image/png": "[encoded data removed]",
      "text/plain": [
       "<Figure size 432x288 with 1 Axes>"
      ]
     },
     "metadata": {
      "needs_background": "light"
     },
     "output_type": "display_data"
    }
   ],
   "source": [
    "index = 40\n",
    "plt.imshow(train_x_orig[index])#展示第index张图片"
   ]
  },
  {
   "cell_type": "code",
   "execution_count": 42,
   "metadata": {},
   "outputs": [
    {
     "name": "stdout",
     "output_type": "stream",
     "text": [
      "train_x 的形状是： (209, 12288)\n",
      "test_x的形状是： (50, 12288)\n",
      "train_y的形状是： (209, 1)\n",
      "test_y的形状是： (50, 1)\n"
     ]
    }
   ],
   "source": [
    "#把特征转化成二维的,并且需要标准化，这里需要注意的是y的形状应该是209，1，所以需要改变形状\n",
    "train_x = train_x_orig.reshape(train_x_orig.shape[0],-1) / 255\n",
    "test_x = test_x_orig.reshape(test_x_orig.shape[0],-1) / 255\n",
    "train_y = train_y.reshape(1,-1).T\n",
    "test_y = test_y.reshape(1,-1).T\n",
    "print(\"train_x 的形状是：\",train_x.shape)\n",
    "print(\"test_x的形状是：\",test_x.shape)\n",
    "print(\"train_y的形状是：\",train_y.shape)\n",
    "print(\"test_y的形状是：\",test_y.shape)"
   ]
  },
  {
   "cell_type": "markdown",
   "metadata": {},
   "source": [
    "### 下面建立keras中相对简单的模型 Sequential\n"
   ]
  },
  {
   "cell_type": "markdown",
   "metadata": {},
   "source": [
    "#### 1 初始化"
   ]
  },
  {
   "cell_type": "code",
   "execution_count": 43,
   "metadata": {},
   "outputs": [],
   "source": [
    "model = Sequential()"
   ]
  },
  {
   "cell_type": "markdown",
   "metadata": {},
   "source": [
    "#### 2 加入全连接层 layer"
   ]
  },
  {
   "cell_type": "code",
   "execution_count": 15,
   "metadata": {},
   "outputs": [],
   "source": [
    "#units:表示当前的layer的神经元节点\n",
    "#activaton:表示选取的激活函数\n",
    "#input_shape:表示输入的数组维度，这里是特征数\n",
    "#kernel_initializer:初始化的方式\n",
    "\n",
    "model.add(Dense(units=1,activation='sigmoid',input_shape=(12288,),kernel_initializer='random_normal'))"
   ]
  },
  {
   "cell_type": "markdown",
   "metadata": {},
   "source": [
    "#### 3 定义优化器和损失函数   （梯度下降或者梯度上升的过程）"
   ]
  },
  {
   "cell_type": "code",
   "execution_count": 22,
   "metadata": {},
   "outputs": [],
   "source": [
    "SGD = keras.optimizers.sgd(lr=0.01) #lr为学习率\n",
    "model.compile(loss = keras.losses.binary_crossentropy,optimizer=SGD,metrics=['accuracy'])"
   ]
  },
  {
   "cell_type": "markdown",
   "metadata": {},
   "source": [
    "#### 4 训练模型"
   ]
  },
  {
   "cell_type": "code",
   "execution_count": 23,
   "metadata": {},
   "outputs": [
    {
     "data": {
      "text/plain": [
       "<keras.callbacks.History at 0x1a2ada7080>"
      ]
     },
     "execution_count": 23,
     "metadata": {},
     "output_type": "execute_result"
    }
   ],
   "source": [
    "model.fit(train_x,train_y,batch_size=64,epochs=1000,verbose=0) #verbose=1时打印每一个结果，0时不打印"
   ]
  },
  {
   "cell_type": "markdown",
   "metadata": {},
   "source": [
    "#### 5 计算正确率"
   ]
  },
  {
   "cell_type": "code",
   "execution_count": 24,
   "metadata": {},
   "outputs": [
    {
     "name": "stdout",
     "output_type": "stream",
     "text": [
      "50/50 [==============================] - 0s 892us/step\n",
      "测试样本的正确率为: 0.3400000035762787\n"
     ]
    }
   ],
   "source": [
    "loss, acc = model.evaluate(test_x, test_y, batch_size=50)\n",
    "print('测试样本的正确率为:',acc)"
   ]
  },
  {
   "cell_type": "code",
   "execution_count": 25,
   "metadata": {},
   "outputs": [
    {
     "name": "stdout",
     "output_type": "stream",
     "text": [
      "209/209 [==============================] - 0s 62us/step\n",
      "训练样本的正确率为: 0.6555024028965161\n"
     ]
    }
   ],
   "source": [
    "loss, acc = model.evaluate(train_x, train_y, batch_size=50)\n",
    "print('训练样本的正确率为:',acc)"
   ]
  },
  {
   "cell_type": "markdown",
   "metadata": {},
   "source": [
    "### 通过tensorflow建立模型"
   ]
  },
  {
   "cell_type": "code",
   "execution_count": 27,
   "metadata": {},
   "outputs": [],
   "source": [
    "import tensorflow as tf"
   ]
  },
  {
   "cell_type": "markdown",
   "metadata": {},
   "source": [
    "#### 1 首先还是初始化w和b"
   ]
  },
  {
   "cell_type": "markdown",
   "metadata": {},
   "source": [
    "#### 2 初始化变量使用tf.Variable\n",
    "tf.Variable(tf.random_normal(shape=[1,n],seed=1))"
   ]
  },
  {
   "cell_type": "markdown",
   "metadata": {},
   "source": [
    "#### 3 占位符 tf.placeholder\n",
    "tf.placeholder(tf.float32,shape=[None,n])\n",
    "\n",
    "tf.placeholder(dtype,shape=None,name=None)\n",
    "\n",
    "dtype：数据类型。常用的是tf.float32,tf.float64等数值类型\n",
    "\n",
    "shape：数据形状。默认是None，就是一维值，也可以是多维（比如[2,3], [None, 3]表示列是3，行不定）\n",
    "\n",
    "name：名称\n",
    "\n",
    "\n",
    "shape中一般只要放入特征值的大小,TF会自动将输入的X塞进去."
   ]
  },
  {
   "cell_type": "markdown",
   "metadata": {},
   "source": [
    "#### 4 矩阵相乘\n",
    "tf.matmul()"
   ]
  },
  {
   "cell_type": "markdown",
   "metadata": {},
   "source": [
    "#### 5 损失函数的计算 \n",
    "可以使用 tf.nn.sigmoid_cross_entropy_with_logits(logits=Z,labels=y)\n",
    "\n",
    "tf.nn.sigmoid_cross_entropy_with_logits(logits=Z,labels=y)\n",
    "\n",
    "注意这里logits项会直接帮你计算sigmoid,所以传入的并不是sigmoid作用之后的值,而是线性值."
   ]
  },
  {
   "cell_type": "markdown",
   "metadata": {},
   "source": [
    "#### 6 梯度下降选择的优化器\n",
    "tf.train.GradientDescentOptimizer（ ）\n",
    "\n",
    "minimize(cost):使用优化器后目的就是最小化minimize,也就是相当于开始参数更新."
   ]
  },
  {
   "cell_type": "markdown",
   "metadata": {},
   "source": [
    "#### 7 计算两者是否相等\n",
    "tf.equal:计算两者是否相等,再使用tf.cast转换类型,最后求平均"
   ]
  },
  {
   "cell_type": "markdown",
   "metadata": {},
   "source": [
    "#### 当初始化完毕了之后就可以开始运行计算图了tf.Session()\n",
    "\n",
    "sess.run(init)\n",
    "...\n",
    "\n",
    "tf.Session()\n",
    "一般这一步都是定死的"
   ]
  },
  {
   "cell_type": "markdown",
   "metadata": {},
   "source": [
    "### 所以TF的整体结构就是:\n",
    "(1) 定义变量和占位符\n",
    "\n",
    "(2) 编写需要的代码(构建网络架构)\n",
    "\n",
    "(3) 初始化所有代码\n",
    "\n",
    "(4) 运行计算图\n",
    "\n",
    "(5) 得到参数更新结果"
   ]
  },
  {
   "cell_type": "markdown",
   "metadata": {},
   "source": [
    "### 注意形状"
   ]
  },
  {
   "cell_type": "code",
   "execution_count": 55,
   "metadata": {},
   "outputs": [
    {
     "name": "stdout",
     "output_type": "stream",
     "text": [
      "train_x 的形状是： (209, 12288)\n",
      "test_x的形状是： (50, 12288)\n",
      "train_y的形状是： (1, 209)\n",
      "test_y的形状是： (1, 50)\n"
     ]
    }
   ],
   "source": [
    "train_x = train_x_orig.reshape(train_x_orig.shape[0],-1) / 255\n",
    "test_x = test_x_orig.reshape(test_x_orig.shape[0],-1) / 255\n",
    "train_y = train_y.reshape(1,-1)\n",
    "test_y= test_y.reshape(1,-1)\n",
    "print(\"train_x 的形状是：\",train_x.shape)\n",
    "print(\"test_x的形状是：\",test_x.shape)\n",
    "print(\"train_y的形状是：\",train_y.shape)\n",
    "print(\"test_y的形状是：\",test_y.shape)"
   ]
  },
  {
   "cell_type": "code",
   "execution_count": 56,
   "metadata": {},
   "outputs": [],
   "source": [
    "def initial_parameters(n):\n",
    "    \n",
    "    #tf.random_normal:从正态分布输出随机值,seed为随机数种子,shape用于初始化变量定义形状.\n",
    "    W = tf.Variable(tf.random_normal(shape=[1,n],seed=1))\n",
    "    #tf.zeros 建立一个零矩阵\n",
    "    b = tf.Variable(tf.zeros(shape=[1,1]))\n",
    "    \n",
    "    return W,b"
   ]
  },
  {
   "cell_type": "code",
   "execution_count": 57,
   "metadata": {},
   "outputs": [],
   "source": [
    "def LR_tensorflow(train_x,train_y,test_x,test_y,alpha,Iter):\n",
    "    '''\n",
    "    变量说明\n",
    "    train_x:训练样本的特征\n",
    "    train_y:训练样本的标签\n",
    "    test_x:测试样本的特征\n",
    "    test_y:测试样本的标签\n",
    "    alpha:学习率\n",
    "    Iter:迭代次数\n",
    "    '''\n",
    "    m,n = train_x.shape\n",
    "    ## 建立placeholder\n",
    "    X = tf.placeholder(tf.float32,shape=[None,n]) # None表示不确定当前的形状\n",
    "    y = tf.placeholder(tf.float32,shape=[1,None])\n",
    "    W,b = initial_parameters(n)\n",
    "    Z = tf.matmul(W,tf.transpose(X)) + b  #tf.transpose表示矩阵的转至的计算\n",
    "    \n",
    "    #计算损失函数\n",
    "    cost = tf.reduce_mean(tf.nn.sigmoid_cross_entropy_with_logits(logits = Z,labels = y))\n",
    "    \n",
    "    #梯度下降\n",
    "    optimizer = tf.train.GradientDescentOptimizer(learning_rate=alpha).minimize(cost)\n",
    "    \n",
    "    #计算正确率\n",
    "    correct_ = tf.equal(tf.round(tf.sigmoid(Z)),y)\n",
    "    \n",
    "    accuracy = tf.reduce_mean(tf.cast(correct_,tf.float32))  #tf.reduce_mean求平均\n",
    "    \n",
    "    #最后初始化变量\n",
    "    init = tf.global_variables_initializer()\n",
    "    \n",
    "    with tf.Session() as sess:\n",
    "        \n",
    "        sess.run(init) #需要初始化\n",
    "\n",
    "        for iter_ in range(Iter):\n",
    "            \n",
    "            # return value equal list size.\n",
    "            # need feed dict,how many placeholder how many value.\n",
    "            _,c = sess.run([optimizer,cost],feed_dict={X:train_x,y:train_y})\n",
    "           \n",
    "            if iter_ % 100 == 0:\n",
    "                \n",
    "                print('after iter {},loss {}'.format(iter_,c))\n",
    "        \n",
    "        # 计算正确率\n",
    "        correct_rate_test = accuracy.eval({X:test_x,y:test_y })\n",
    "        correct_rate_train = accuracy.eval({X:train_x,y:train_y})\n",
    "        print(\"测试样本的正确率为 \",correct_rate_test)\n",
    "        print(\"训练样本的正确率为 \",correct_rate_train)"
   ]
  },
  {
   "cell_type": "code",
   "execution_count": 54,
   "metadata": {},
   "outputs": [
    {
     "name": "stdout",
     "output_type": "stream",
     "text": [
      "after iter 0,loss 7.985492706298828\n",
      "after iter 100,loss 3.4039981365203857\n",
      "after iter 200,loss 14.464579582214355\n",
      "after iter 300,loss 1.3415228128433228\n",
      "after iter 400,loss 9.29128646850586\n",
      "after iter 500,loss 4.443009376525879\n",
      "after iter 600,loss 1.3032474517822266\n",
      "after iter 700,loss 0.31220778822898865\n",
      "after iter 800,loss 0.1305931806564331\n",
      "after iter 900,loss 0.22720423340797424\n",
      "after iter 1000,loss 0.043595489114522934\n",
      "The test set correct is  0.6\n",
      "The train set correct is  0.9952153\n"
     ]
    }
   ],
   "source": [
    "LR_tensorflow(train_x,train_y,test_x,test_y,0.1,1100)"
   ]
  },
  {
   "cell_type": "code",
   "execution_count": null,
   "metadata": {},
   "outputs": [],
   "source": [
    "#### python中的with as 用法\n",
    "#这个语法是用来代替传统的try...finally语法的。"
   ]
  }
 ],
 "metadata": {
  "kernelspec": {
   "display_name": "Python 3",
   "language": "python",
   "name": "python3"
  },
  "language_info": {
   "codemirror_mode": {
    "name": "ipython",
    "version": 3
   },
   "file_extension": ".py",
   "mimetype": "text/x-python",
   "name": "python",
   "nbconvert_exporter": "python",
   "pygments_lexer": "ipython3",
   "version": "3.6.8"
  }
 },
 "nbformat": 4,
 "nbformat_minor": 2
}
